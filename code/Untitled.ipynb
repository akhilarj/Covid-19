{
 "cells": [
  {
   "cell_type": "code",
   "execution_count": 1,
   "metadata": {},
   "outputs": [
    {
     "name": "stdout",
     "output_type": "stream",
     "text": [
      "Collecting newspaper3k\n",
      "  Downloading newspaper3k-0.2.8-py3-none-any.whl (211 kB)\n",
      "\u001b[K     |████████████████████████████████| 211 kB 4.6 MB/s eta 0:00:01\n",
      "\u001b[?25hRequirement already satisfied: lxml>=3.6.0 in /Users/akhilajoseph/opt/anaconda3/lib/python3.7/site-packages (from newspaper3k) (4.4.1)\n",
      "Requirement already satisfied: nltk>=3.2.1 in /Users/akhilajoseph/opt/anaconda3/lib/python3.7/site-packages (from newspaper3k) (3.4.5)\n",
      "Collecting feedfinder2>=0.0.4\n",
      "  Downloading feedfinder2-0.0.4.tar.gz (3.3 kB)\n",
      "Collecting tinysegmenter==0.3\n",
      "  Downloading tinysegmenter-0.3.tar.gz (16 kB)\n",
      "Requirement already satisfied: Pillow>=3.3.0 in /Users/akhilajoseph/opt/anaconda3/lib/python3.7/site-packages (from newspaper3k) (6.2.0)\n",
      "Requirement already satisfied: beautifulsoup4>=4.4.1 in /Users/akhilajoseph/opt/anaconda3/lib/python3.7/site-packages (from newspaper3k) (4.8.0)\n",
      "Collecting tldextract>=2.0.1\n",
      "  Downloading tldextract-2.2.2-py2.py3-none-any.whl (48 kB)\n",
      "\u001b[K     |████████████████████████████████| 48 kB 5.3 MB/s eta 0:00:01\n",
      "\u001b[?25hRequirement already satisfied: python-dateutil>=2.5.3 in /Users/akhilajoseph/opt/anaconda3/lib/python3.7/site-packages (from newspaper3k) (2.8.0)\n",
      "Collecting feedparser>=5.2.1\n",
      "  Downloading feedparser-5.2.1.tar.bz2 (192 kB)\n",
      "\u001b[K     |████████████████████████████████| 192 kB 3.9 MB/s eta 0:00:01\n",
      "\u001b[?25hCollecting jieba3k>=0.35.1\n",
      "  Downloading jieba3k-0.35.1.zip (7.4 MB)\n",
      "\u001b[K     |████████████████████████████████| 7.4 MB 1.2 MB/s eta 0:00:01     |██████████████████▉             | 4.4 MB 5.8 MB/s eta 0:00:01\n",
      "\u001b[?25hRequirement already satisfied: PyYAML>=3.11 in /Users/akhilajoseph/opt/anaconda3/lib/python3.7/site-packages (from newspaper3k) (5.1.2)\n",
      "Requirement already satisfied: requests>=2.10.0 in /Users/akhilajoseph/opt/anaconda3/lib/python3.7/site-packages (from newspaper3k) (2.22.0)\n",
      "Requirement already satisfied: cssselect>=0.9.2 in /Users/akhilajoseph/opt/anaconda3/lib/python3.7/site-packages (from newspaper3k) (1.1.0)\n",
      "Requirement already satisfied: six in /Users/akhilajoseph/opt/anaconda3/lib/python3.7/site-packages (from nltk>=3.2.1->newspaper3k) (1.12.0)\n",
      "Requirement already satisfied: soupsieve>=1.2 in /Users/akhilajoseph/opt/anaconda3/lib/python3.7/site-packages (from beautifulsoup4>=4.4.1->newspaper3k) (1.9.3)\n",
      "Requirement already satisfied: idna in /Users/akhilajoseph/opt/anaconda3/lib/python3.7/site-packages (from tldextract>=2.0.1->newspaper3k) (2.8)\n",
      "Requirement already satisfied: setuptools in /Users/akhilajoseph/opt/anaconda3/lib/python3.7/site-packages (from tldextract>=2.0.1->newspaper3k) (46.1.3)\n",
      "Collecting requests-file>=1.4\n",
      "  Downloading requests_file-1.4.3-py2.py3-none-any.whl (4.0 kB)\n",
      "Requirement already satisfied: chardet<3.1.0,>=3.0.2 in /Users/akhilajoseph/opt/anaconda3/lib/python3.7/site-packages (from requests>=2.10.0->newspaper3k) (3.0.4)\n",
      "Requirement already satisfied: certifi>=2017.4.17 in /Users/akhilajoseph/opt/anaconda3/lib/python3.7/site-packages (from requests>=2.10.0->newspaper3k) (2019.9.11)\n",
      "Requirement already satisfied: urllib3!=1.25.0,!=1.25.1,<1.26,>=1.21.1 in /Users/akhilajoseph/opt/anaconda3/lib/python3.7/site-packages (from requests>=2.10.0->newspaper3k) (1.24.2)\n",
      "Building wheels for collected packages: feedfinder2, tinysegmenter, feedparser, jieba3k\n",
      "  Building wheel for feedfinder2 (setup.py) ... \u001b[?25ldone\n",
      "\u001b[?25h  Created wheel for feedfinder2: filename=feedfinder2-0.0.4-py3-none-any.whl size=3354 sha256=84a047e1759bc455e875e6ecf54ed4983259300bf9e1a6f002fb435b20d94477\n",
      "  Stored in directory: /Users/akhilajoseph/Library/Caches/pip/wheels/7f/d4/8f/6e2ca54744c9d7292d88ddb8d42876bcdab5e6d84a21c10346\n",
      "  Building wheel for tinysegmenter (setup.py) ... \u001b[?25ldone\n",
      "\u001b[?25h  Created wheel for tinysegmenter: filename=tinysegmenter-0.3-py3-none-any.whl size=13536 sha256=3ca71a04d2cb2973766e31e342a1b8a1eda6abb89e3448813914b66b7f1129a3\n",
      "  Stored in directory: /Users/akhilajoseph/Library/Caches/pip/wheels/df/67/41/faca10fa501ca010be41b49d40360c2959e1c4f09bcbfa37fa\n",
      "  Building wheel for feedparser (setup.py) ... \u001b[?25ldone\n",
      "\u001b[?25h  Created wheel for feedparser: filename=feedparser-5.2.1-py3-none-any.whl size=44937 sha256=0bb242f873af3ff83c721edcae73f2277becc5ac37d7c548203bf5de4759c718\n",
      "  Stored in directory: /Users/akhilajoseph/Library/Caches/pip/wheels/4a/87/a9/ef99b7b68f9816d5ef1262dc11ce31a93a844eb69e68c1a031\n",
      "  Building wheel for jieba3k (setup.py) ... \u001b[?25ldone\n",
      "\u001b[?25h  Created wheel for jieba3k: filename=jieba3k-0.35.1-py3-none-any.whl size=7398406 sha256=289d244f5ab656e33a5db01b11c003a2e755b250317c30ffe1e38a0aa765e558\n",
      "  Stored in directory: /Users/akhilajoseph/Library/Caches/pip/wheels/4c/91/46/3c208287b726df325a5979574324878b679116e4baae1af3c3\n",
      "Successfully built feedfinder2 tinysegmenter feedparser jieba3k\n",
      "Installing collected packages: feedfinder2, tinysegmenter, requests-file, tldextract, feedparser, jieba3k, newspaper3k\n",
      "Successfully installed feedfinder2-0.0.4 feedparser-5.2.1 jieba3k-0.35.1 newspaper3k-0.2.8 requests-file-1.4.3 tinysegmenter-0.3 tldextract-2.2.2\n"
     ]
    }
   ],
   "source": [
    "# https://towardsdatascience.com/scrape-and-summarize-news-articles-in-5-lines-of-python-code-175f0e5c7dfc\n",
    "!pip install newspaper3k"
   ]
  },
  {
   "cell_type": "code",
   "execution_count": 2,
   "metadata": {},
   "outputs": [],
   "source": [
    "from newspaper import Article"
   ]
  },
  {
   "cell_type": "code",
   "execution_count": null,
   "metadata": {},
   "outputs": [],
   "source": [
    "# https://medium.com/@randerson112358/scrape-summarize-news-articles-using-python-51a48af1b4e2\n",
    "# "
   ]
  }
 ],
 "metadata": {
  "kernelspec": {
   "display_name": "Python 3",
   "language": "python",
   "name": "python3"
  },
  "language_info": {
   "codemirror_mode": {
    "name": "ipython",
    "version": 3
   },
   "file_extension": ".py",
   "mimetype": "text/x-python",
   "name": "python",
   "nbconvert_exporter": "python",
   "pygments_lexer": "ipython3",
   "version": "3.7.4"
  }
 },
 "nbformat": 4,
 "nbformat_minor": 2
}
